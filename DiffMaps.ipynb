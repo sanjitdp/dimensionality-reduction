{
 "cells": [
  {
   "cell_type": "code",
   "execution_count": 1,
   "id": "d6bc87d7",
   "metadata": {},
   "outputs": [
    {
     "name": "stderr",
     "output_type": "stream",
     "text": [
      "C:\\tools\\miniconda3\\envs\\pytorch\\lib\\site-packages\\tqdm\\auto.py:22: TqdmWarning: IProgress not found. Please update jupyter and ipywidgets. See https://ipywidgets.readthedocs.io/en/stable/user_install.html\n",
      "  from .autonotebook import tqdm as notebook_tqdm\n"
     ]
    }
   ],
   "source": [
    "import pydiffmap\n",
    "from utils import get_dataset, make_plot\n",
    "from metrics import knn_accuracy, stability, stress, strain"
   ]
  },
  {
   "cell_type": "code",
   "execution_count": 2,
   "id": "a119ce82",
   "metadata": {},
   "outputs": [
    {
     "name": "stdout",
     "output_type": "stream",
     "text": [
      "(70000, 784)\n",
      "(70000,)\n"
     ]
    }
   ],
   "source": [
    "input, labels = get_dataset(\"mnist\", sample_percent=0.2)"
   ]
  },
  {
   "cell_type": "code",
   "execution_count": 3,
   "id": "f39408fb",
   "metadata": {},
   "outputs": [],
   "source": [
    "diffMap = pydiffmap.diffusion_map.DiffusionMap.from_sklearn(n_evecs=10, kernel_type='gaussian')\n",
    "embeddings = diffMap.fit_transform(input)\n"
   ]
  },
  {
   "cell_type": "code",
   "execution_count": 5,
   "id": "92e1a536",
   "metadata": {},
   "outputs": [
    {
     "data": {
      "text/plain": [
       "<AxesSubplot:>"
      ]
     },
     "execution_count": 5,
     "metadata": {},
     "output_type": "execute_result"
    },
    {
     "data": {
      "image/png": "[encoded data removed]",
      "text/plain": [
       "<Figure size 720x720 with 1 Axes>"
      ]
     },
     "metadata": {
      "needs_background": "light"
     },
     "output_type": "display_data"
    }
   ],
   "source": [
    "make_plot(embeddings, labels, marker_size=20)"
   ]
  },
  {
   "cell_type": "code",
   "execution_count": 6,
   "id": "5e125d5f",
   "metadata": {},
   "outputs": [
    {
     "data": {
      "text/plain": [
       "(0.8053571428571427, 0.0035678553553549143)"
      ]
     },
     "execution_count": 6,
     "metadata": {},
     "output_type": "execute_result"
    }
   ],
   "source": [
    "knn_accuracy(embeddings,labels)"
   ]
  },
  {
   "cell_type": "code",
   "execution_count": 7,
   "id": "873dfdba",
   "metadata": {},
   "outputs": [
    {
     "data": {
      "text/plain": [
       "0.7893223047745843"
      ]
     },
     "execution_count": 7,
     "metadata": {},
     "output_type": "execute_result"
    }
   ],
   "source": [
    "input1, labels1 = get_dataset(\"coil20\",sample_percent=0.2)\n",
    "embedding1 = diffMap.fit_transform(input1)\n",
    "\n",
    "input2, labels2 = get_dataset(\"coil20\")\n",
    "embedding2 = diffMap.fit_transform(input2)\n",
    "embedding2 = embedding2[0:int(0.2*len(embedding2)) ]\n",
    "labels2 =  labels2[0:int(0.2*len(labels2)) ]\n",
    "\n",
    "# compute the metric\n",
    "stability(embedding1, embedding2)"
   ]
  },
  {
   "cell_type": "code",
   "execution_count": 8,
   "id": "5de0c827",
   "metadata": {},
   "outputs": [
    {
     "data": {
      "text/plain": [
       "1377170519779995.0"
      ]
     },
     "execution_count": 8,
     "metadata": {},
     "output_type": "execute_result"
    }
   ],
   "source": [
    "stress(input, embeddings)"
   ]
  },
  {
   "cell_type": "code",
   "execution_count": 9,
   "id": "6cac1150",
   "metadata": {},
   "outputs": [
    {
     "ename": "MemoryError",
     "evalue": "Unable to allocate 1.46 GiB for an array with shape (14000, 14000) and data type float64",
     "output_type": "error",
     "traceback": [
      "\u001b[1;31m---------------------------------------------------------------------------\u001b[0m",
      "\u001b[1;31mMemoryError\u001b[0m                               Traceback (most recent call last)",
      "Input \u001b[1;32mIn [9]\u001b[0m, in \u001b[0;36m<cell line: 1>\u001b[1;34m()\u001b[0m\n\u001b[1;32m----> 1\u001b[0m \u001b[43mstrain\u001b[49m\u001b[43m(\u001b[49m\u001b[38;5;28;43minput\u001b[39;49m\u001b[43m,\u001b[49m\u001b[43m \u001b[49m\u001b[43membeddings\u001b[49m\u001b[43m)\u001b[49m\n",
      "File \u001b[1;32m~\\Documents\\UCLA\\Scientific Computing\\DimRedMath270\\metrics.py:80\u001b[0m, in \u001b[0;36mstrain\u001b[1;34m(X, Y)\u001b[0m\n\u001b[0;32m     78\u001b[0m J \u001b[38;5;241m=\u001b[39m np\u001b[38;5;241m.\u001b[39mones((n,n))\n\u001b[0;32m     79\u001b[0m V \u001b[38;5;241m=\u001b[39m I \u001b[38;5;241m-\u001b[39m \u001b[38;5;241m1\u001b[39m\u001b[38;5;241m/\u001b[39mn \u001b[38;5;241m*\u001b[39m J\n\u001b[1;32m---> 80\u001b[0m \u001b[38;5;28;01mreturn\u001b[39;00m np\u001b[38;5;241m.\u001b[39mlinalg\u001b[38;5;241m.\u001b[39mnorm( (Y\u001b[38;5;129m@Y\u001b[39m\u001b[38;5;241m.\u001b[39mT) \u001b[38;5;241m-\u001b[39m (\u001b[38;5;241;43m-\u001b[39;49m\u001b[43mV\u001b[49m\u001b[43m \u001b[49m\u001b[38;5;241;43m@\u001b[39;49m\u001b[43m \u001b[49m\u001b[43mD\u001b[49m \u001b[38;5;241m@\u001b[39m V)\u001b[38;5;241m/\u001b[39m\u001b[38;5;241m2\u001b[39m ) \u001b[38;5;241m*\u001b[39m\u001b[38;5;241m*\u001b[39m \u001b[38;5;241m2\u001b[39m\n",
      "\u001b[1;31mMemoryError\u001b[0m: Unable to allocate 1.46 GiB for an array with shape (14000, 14000) and data type float64"
     ]
    }
   ],
   "source": [
    "strain(input, embeddings)"
   ]
  },
  {
   "cell_type": "code",
   "execution_count": null,
   "id": "d76d9ee3",
   "metadata": {},
   "outputs": [],
   "source": []
  }
 ],
 "metadata": {
  "kernelspec": {
   "display_name": "Python 3 (ipykernel)",
   "language": "python",
   "name": "python3"
  },
  "language_info": {
   "codemirror_mode": {
    "name": "ipython",
    "version": 3
   },
   "file_extension": ".py",
   "mimetype": "text/x-python",
   "name": "python",
   "nbconvert_exporter": "python",
   "pygments_lexer": "ipython3",
   "version": "3.9.12"
  }
 },
 "nbformat": 4,
 "nbformat_minor": 5
}
